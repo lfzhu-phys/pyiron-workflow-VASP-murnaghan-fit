{
 "cells": [
  {
   "cell_type": "markdown",
   "metadata": {},
   "source": [
    "# Workflow Murnaghan fit using VASP calculations"
   ]
  },
  {
   "cell_type": "markdown",
   "metadata": {},
   "source": [
    "This workflow aims to calculate the equilibrium energy, equilibrium volume and bulk modulus of Al from ab initio. Murnaghan fit is applied and VASP is used for the calculations."
   ]
  },
  {
   "cell_type": "code",
   "execution_count": 1,
   "metadata": {},
   "outputs": [],
   "source": [
    "from pyiron.project import Project\n",
    "import matplotlib.pyplot as plt\n",
    "import numpy as np\n",
    "from pyiron_utility import run_EOS_vasp_jobs\n",
    "from pyiron_utility import print_job_status\n",
    "from pyiron_utility import print_cpu_time"
   ]
  },
  {
   "cell_type": "code",
   "execution_count": 2,
   "metadata": {},
   "outputs": [],
   "source": [
    "pr = Project('EOS')"
   ]
  },
  {
   "cell_type": "markdown",
   "metadata": {},
   "source": [
    "Setting up the necessary parameters"
   ]
  },
  {
   "cell_type": "code",
   "execution_count": 4,
   "metadata": {
    "tags": []
   },
   "outputs": [],
   "source": [
    "project_parameter = {'project': pr,\n",
    "                     'element': 'Al',\n",
    "                     'crystal_structure': 'fcc',\n",
    "                     'supercell': 1,\n",
    "                     'shift': 0.1,       # experimental lattice constant is automatically assigned as the center point\n",
    "                     'npoints': 11,       # number of lattice constants between shifts -0.1 and 0.1\n",
    "                     'xc': 'PBE',        # VASP_related parameter\n",
    "                     'encut': 250,       # VASP_related parameter\n",
    "                     'kmesh': 4,         # VASP_related parameter\n",
    "                     'ismear': 1,        # VASP_related parameter\n",
    "                     'sigma': 0.1,       # VASP_related parameter\n",
    "                     'EDIFF': 1e-6,      # VASP_related parameter\n",
    "                     'PREC': 'Acuurate', # VASP_related parameter\n",
    "                     'cluster': 'cm',    # cluster_realted parameter\n",
    "                     'cpu_cores': 1      # cluster_related parameter\n",
    "                    }"
   ]
  },
  {
   "cell_type": "code",
   "execution_count": 5,
   "metadata": {},
   "outputs": [],
   "source": [
    "#pr.remove_jobs(recursive=True)"
   ]
  },
  {
   "cell_type": "markdown",
   "metadata": {},
   "source": [
    "Setting up and running calculations"
   ]
  },
  {
   "cell_type": "code",
   "execution_count": 6,
   "metadata": {},
   "outputs": [
    {
     "name": "stdout",
     "output_type": "stream",
     "text": [
      "ham_3_95Ang\n"
     ]
    },
    {
     "name": "stderr",
     "output_type": "stream",
     "text": [
      "2021-11-30 16:01:46,721 - pyiron_log - WARNING - The job ham_3_95Ang is being loaded instead of running. To re-run use the argument 'delete_existing_job=True in create_job'\n",
      "2021-11-30 16:01:46,721 - pyiron_log - WARNING - The job ham_3_95Ang is being loaded instead of running. To re-run use the argument 'delete_existing_job=True in create_job'\n"
     ]
    },
    {
     "name": "stdout",
     "output_type": "stream",
     "text": [
      "ham_3_97Ang\n"
     ]
    },
    {
     "name": "stderr",
     "output_type": "stream",
     "text": [
      "2021-11-30 16:01:47,614 - pyiron_log - WARNING - The job ham_3_97Ang is being loaded instead of running. To re-run use the argument 'delete_existing_job=True in create_job'\n",
      "2021-11-30 16:01:47,614 - pyiron_log - WARNING - The job ham_3_97Ang is being loaded instead of running. To re-run use the argument 'delete_existing_job=True in create_job'\n"
     ]
    },
    {
     "name": "stdout",
     "output_type": "stream",
     "text": [
      "ham_3_99Ang\n"
     ]
    },
    {
     "name": "stderr",
     "output_type": "stream",
     "text": [
      "2021-11-30 16:01:48,530 - pyiron_log - WARNING - The job ham_3_99Ang is being loaded instead of running. To re-run use the argument 'delete_existing_job=True in create_job'\n",
      "2021-11-30 16:01:48,530 - pyiron_log - WARNING - The job ham_3_99Ang is being loaded instead of running. To re-run use the argument 'delete_existing_job=True in create_job'\n"
     ]
    },
    {
     "name": "stdout",
     "output_type": "stream",
     "text": [
      "ham_4_01Ang\n"
     ]
    },
    {
     "name": "stderr",
     "output_type": "stream",
     "text": [
      "2021-11-30 16:01:49,447 - pyiron_log - WARNING - The job ham_4_01Ang is being loaded instead of running. To re-run use the argument 'delete_existing_job=True in create_job'\n",
      "2021-11-30 16:01:49,447 - pyiron_log - WARNING - The job ham_4_01Ang is being loaded instead of running. To re-run use the argument 'delete_existing_job=True in create_job'\n"
     ]
    },
    {
     "name": "stdout",
     "output_type": "stream",
     "text": [
      "ham_4_03Ang\n"
     ]
    },
    {
     "name": "stderr",
     "output_type": "stream",
     "text": [
      "2021-11-30 16:01:50,353 - pyiron_log - WARNING - The job ham_4_03Ang is being loaded instead of running. To re-run use the argument 'delete_existing_job=True in create_job'\n",
      "2021-11-30 16:01:50,353 - pyiron_log - WARNING - The job ham_4_03Ang is being loaded instead of running. To re-run use the argument 'delete_existing_job=True in create_job'\n"
     ]
    },
    {
     "name": "stdout",
     "output_type": "stream",
     "text": [
      "ham_4_05Ang\n"
     ]
    },
    {
     "name": "stderr",
     "output_type": "stream",
     "text": [
      "2021-11-30 16:01:51,252 - pyiron_log - WARNING - The job ham_4_05Ang is being loaded instead of running. To re-run use the argument 'delete_existing_job=True in create_job'\n",
      "2021-11-30 16:01:51,252 - pyiron_log - WARNING - The job ham_4_05Ang is being loaded instead of running. To re-run use the argument 'delete_existing_job=True in create_job'\n"
     ]
    },
    {
     "name": "stdout",
     "output_type": "stream",
     "text": [
      "ham_4_07Ang\n"
     ]
    },
    {
     "name": "stderr",
     "output_type": "stream",
     "text": [
      "2021-11-30 16:01:52,173 - pyiron_log - WARNING - The job ham_4_07Ang is being loaded instead of running. To re-run use the argument 'delete_existing_job=True in create_job'\n",
      "2021-11-30 16:01:52,173 - pyiron_log - WARNING - The job ham_4_07Ang is being loaded instead of running. To re-run use the argument 'delete_existing_job=True in create_job'\n"
     ]
    },
    {
     "name": "stdout",
     "output_type": "stream",
     "text": [
      "ham_4_09Ang\n"
     ]
    },
    {
     "name": "stderr",
     "output_type": "stream",
     "text": [
      "2021-11-30 16:01:53,058 - pyiron_log - WARNING - The job ham_4_09Ang is being loaded instead of running. To re-run use the argument 'delete_existing_job=True in create_job'\n",
      "2021-11-30 16:01:53,058 - pyiron_log - WARNING - The job ham_4_09Ang is being loaded instead of running. To re-run use the argument 'delete_existing_job=True in create_job'\n"
     ]
    },
    {
     "name": "stdout",
     "output_type": "stream",
     "text": [
      "ham_4_11Ang\n"
     ]
    },
    {
     "name": "stderr",
     "output_type": "stream",
     "text": [
      "2021-11-30 16:01:53,956 - pyiron_log - WARNING - The job ham_4_11Ang is being loaded instead of running. To re-run use the argument 'delete_existing_job=True in create_job'\n",
      "2021-11-30 16:01:53,956 - pyiron_log - WARNING - The job ham_4_11Ang is being loaded instead of running. To re-run use the argument 'delete_existing_job=True in create_job'\n"
     ]
    },
    {
     "name": "stdout",
     "output_type": "stream",
     "text": [
      "ham_4_13Ang\n"
     ]
    },
    {
     "name": "stderr",
     "output_type": "stream",
     "text": [
      "2021-11-30 16:01:54,848 - pyiron_log - WARNING - The job ham_4_13Ang is being loaded instead of running. To re-run use the argument 'delete_existing_job=True in create_job'\n",
      "2021-11-30 16:01:54,848 - pyiron_log - WARNING - The job ham_4_13Ang is being loaded instead of running. To re-run use the argument 'delete_existing_job=True in create_job'\n"
     ]
    },
    {
     "name": "stdout",
     "output_type": "stream",
     "text": [
      "ham_4_15Ang\n"
     ]
    },
    {
     "name": "stderr",
     "output_type": "stream",
     "text": [
      "2021-11-30 16:01:55,765 - pyiron_log - WARNING - The job ham_4_15Ang is being loaded instead of running. To re-run use the argument 'delete_existing_job=True in create_job'\n",
      "2021-11-30 16:01:55,765 - pyiron_log - WARNING - The job ham_4_15Ang is being loaded instead of running. To re-run use the argument 'delete_existing_job=True in create_job'\n"
     ]
    }
   ],
   "source": [
    "run_EOS_vasp_jobs(project_parameter = project_parameter)"
   ]
  },
  {
   "cell_type": "code",
   "execution_count": 7,
   "metadata": {},
   "outputs": [
    {
     "name": "stdout",
     "output_type": "stream",
     "text": [
      "Total number of jobs is 12.\n",
      "Finished jobs is 12.\n",
      "Submitted jobs is 0.\n",
      "Running jobs is 0.\n",
      "Aborted jobs is 0.\n"
     ]
    }
   ],
   "source": [
    "print_job_status(project_parameter = project_parameter)"
   ]
  },
  {
   "cell_type": "code",
   "execution_count": 8,
   "metadata": {},
   "outputs": [
    {
     "name": "stdout",
     "output_type": "stream",
     "text": [
      "For current project 1 cores are used for calculations.\n",
      "The shortest CPU time of finished jobs is 0.0000 in hours.\n",
      "The longest CPU time of finished jobs is 0.0006 in hours.\n",
      "The average CPU time of finished jobs is 0.0005 in hours.\n"
     ]
    }
   ],
   "source": [
    "print_cpu_time(project_parameter = project_parameter)"
   ]
  },
  {
   "cell_type": "markdown",
   "metadata": {},
   "source": [
    "Extracting data from the calculations"
   ]
  },
  {
   "cell_type": "code",
   "execution_count": 9,
   "metadata": {},
   "outputs": [
    {
     "name": "stderr",
     "output_type": "stream",
     "text": [
      "2021-11-30 16:04:40,026 - pyiron_log - WARNING - The job table is being loaded instead of running. To re-run use the argument 'delete_existing_job=True in create_job'\n",
      "2021-11-30 16:04:40,026 - pyiron_log - WARNING - The job table is being loaded instead of running. To re-run use the argument 'delete_existing_job=True in create_job'\n"
     ]
    }
   ],
   "source": [
    "table = pr.create.table()\n",
    "table.add.get_energy_free_per_atom\n",
    "table.add.get_volume_per_atom\n",
    "table.run()"
   ]
  },
  {
   "cell_type": "markdown",
   "metadata": {},
   "source": [
    "plotting the data"
   ]
  },
  {
   "cell_type": "code",
   "execution_count": 10,
   "metadata": {},
   "outputs": [
    {
     "data": {
      "image/png": "[encoded data removed]",
      "text/plain": [
       "<Figure size 432x288 with 1 Axes>"
      ]
     },
     "metadata": {
      "needs_background": "light"
     },
     "output_type": "display_data"
    }
   ],
   "source": [
    "df = table.get_dataframe() \n",
    "df.sort_values(by=\"volume\", inplace=True)\n",
    "plt.plot(df.volume, df.energy_free, 'o-');"
   ]
  },
  {
   "cell_type": "markdown",
   "metadata": {},
   "source": [
    "applying murnaghan fit"
   ]
  },
  {
   "cell_type": "code",
   "execution_count": 11,
   "metadata": {},
   "outputs": [],
   "source": [
    "from pyiron.atomistics.master.murnaghan import EnergyVolumeFit\n",
    "ev_fit = EnergyVolumeFit()"
   ]
  },
  {
   "cell_type": "code",
   "execution_count": 12,
   "metadata": {
    "tags": []
   },
   "outputs": [],
   "source": [
    "ev_fit = EnergyVolumeFit(df.volume, df.energy_free)"
   ]
  },
  {
   "cell_type": "code",
   "execution_count": 13,
   "metadata": {
    "scrolled": true
   },
   "outputs": [
    {
     "data": {
      "text/plain": [
       "{'fit_type': 'vinet',\n",
       " 'volume_eq': 16.602778428185392,\n",
       " 'energy_eq': -3.683416417191908,\n",
       " 'bulkmodul_eq': 80.27777317220281,\n",
       " 'b_prime_eq': 4.6650753105726475,\n",
       " 'least_square_error': array([7.06581343e-05, 4.58512252e-01, 4.27707542e-01, 4.91816963e-03])}"
      ]
     },
     "execution_count": 13,
     "metadata": {},
     "output_type": "execute_result"
    }
   ],
   "source": [
    "fit_dict = ev_fit.fit_eos_general(fittype='vinet')\n",
    "fit_dict"
   ]
  },
  {
   "cell_type": "markdown",
   "metadata": {},
   "source": [
    "Plotting the original data and the fitted data"
   ]
  },
  {
   "cell_type": "code",
   "execution_count": 14,
   "metadata": {
    "tags": []
   },
   "outputs": [
    {
     "data": {
      "image/png": "[encoded data removed]",
      "text/plain": [
       "<Figure size 432x288 with 1 Axes>"
      ]
     },
     "metadata": {
      "needs_background": "light"
     },
     "output_type": "display_data"
    }
   ],
   "source": [
    "vol_lst = np.linspace(np.min(df.volume), np.max(df.volume), 1000)\n",
    "plt.plot(df.volume, df.energy_free, 'o', label='dft')\n",
    "plt.plot(vol_lst, ev_fit.vinet_energy(vol_lst, fit_dict['energy_eq'], fit_dict['bulkmodul_eq']/160.21766208, fit_dict['b_prime_eq'], fit_dict['volume_eq']), label='vinet')\n",
    "plt.xlabel('Volume ($\\AA ^ 3$)')\n",
    "plt.ylabel('Energy (eV)')\n",
    "plt.legend();"
   ]
  },
  {
   "cell_type": "code",
   "execution_count": 15,
   "metadata": {},
   "outputs": [],
   "source": [
    "pr.pack(destination_path=\"save\")"
   ]
  },
  {
   "cell_type": "code",
   "execution_count": null,
   "metadata": {},
   "outputs": [],
   "source": []
  }
 ],
 "metadata": {
  "anaconda-cloud": {},
  "kernelspec": {
   "display_name": "Python 3 (ipykernel)",
   "language": "python",
   "name": "python3"
  },
  "language_info": {
   "codemirror_mode": {
    "name": "ipython",
    "version": 3
   },
   "file_extension": ".py",
   "mimetype": "text/x-python",
   "name": "python",
   "nbconvert_exporter": "python",
   "pygments_lexer": "ipython3",
   "version": "3.8.12"
  },
  "toc": {
   "nav_menu": {
    "height": "12px",
    "width": "252px"
   },
   "number_sections": true,
   "sideBar": true,
   "skip_h1_title": false,
   "toc_cell": false,
   "toc_position": {},
   "toc_section_display": "block",
   "toc_window_display": false
  }
 },
 "nbformat": 4,
 "nbformat_minor": 4
}
